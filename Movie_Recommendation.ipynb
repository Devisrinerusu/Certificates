{
  "nbformat": 4,
  "nbformat_minor": 0,
  "metadata": {
    "colab": {
      "provenance": [],
      "authorship_tag": "ABX9TyMI0gDe8Q2Nr1r3hc5DCSKn",
      "include_colab_link": true
    },
    "kernelspec": {
      "name": "python3",
      "display_name": "Python 3"
    },
    "language_info": {
      "name": "python"
    }
  },
  "cells": [
    {
      "cell_type": "markdown",
      "metadata": {
        "id": "view-in-github",
        "colab_type": "text"
      },
      "source": [
        "<a href=\"https://colab.research.google.com/github/Devisrinerusu/Certificates/blob/main/Movie_Recommendation.ipynb\" target=\"_parent\"><img src=\"https://colab.research.google.com/assets/colab-badge.svg\" alt=\"Open In Colab\"/></a>"
      ]
    },
    {
      "cell_type": "code",
      "execution_count": 1,
      "metadata": {
        "colab": {
          "base_uri": "https://localhost:8080/"
        },
        "id": "lbukZalGKWAi",
        "outputId": "05bdaff0-1a7a-4218-88fb-39dc7a6caa6c"
      },
      "outputs": [
        {
          "output_type": "execute_result",
          "data": {
            "text/plain": [
              "['.config', 'sample_data']"
            ]
          },
          "metadata": {},
          "execution_count": 1
        }
      ],
      "source": [
        "import os\n",
        "os.listdir('/content/')\n"
      ]
    },
    {
      "cell_type": "code",
      "source": [
        "import pandas as pd\n",
        "from sklearn.feature_extraction.text import CountVectorizer\n",
        "from sklearn.naive_bayes import MultinomialNB\n",
        "from sklearn.pipeline import Pipeline\n",
        "from sklearn.preprocessing import LabelEncoder\n",
        "\n",
        "# Load dataset\n",
        "file_path = \" //content/movies_data.csv\"  # Update if needed\n",
        "df = pd.read_csv(f\"/content/movies_data.csv\")\n",
        "\n",
        "# Drop missing values in required columns\n",
        "df.dropna(subset=[\"Name\", \"Genre\", \"Year\", \"Rating\", \"Votes\"], inplace=True)\n",
        "\n",
        "# Normalize movie names\n",
        "df[\"Name\"] = df[\"Name\"].str.strip().str.lower()\n",
        "\n",
        "# Convert Year, Rating, and Votes to numeric\n",
        "df[\"Year\"] = pd.to_numeric(df[\"Year\"], errors=\"coerce\")\n",
        "df[\"Rating\"] = pd.to_numeric(df[\"Rating\"], errors=\"coerce\")\n",
        "df[\"Votes\"] = pd.to_numeric(df[\"Votes\"], errors=\"coerce\")\n",
        "\n",
        "# Drop invalid rows\n",
        "df.dropna(inplace=True)\n",
        "\n",
        "# Convert Year to integer\n",
        "df[\"Year\"] = df[\"Year\"].astype(int)\n",
        "\n",
        "# Encode genres\n",
        "label_encoder = LabelEncoder()\n",
        "df[\"Genre_Label\"] = label_encoder.fit_transform(df[\"Genre\"])\n",
        "\n",
        "# Naïve Bayes Model for Genre Classification\n",
        "nb_pipeline = Pipeline([\n",
        "    (\"vectorizer\", CountVectorizer()),\n",
        "    (\"nb\", MultinomialNB())\n",
        "])\n",
        "nb_pipeline.fit(df[\"Genre\"], df[\"Genre_Label\"])\n",
        "\n",
        "#  Recommendation Function Based on Genre, Rating, and Votes\n",
        "def recommend_movies_naive_bayes():\n",
        "    movie_name = input(\"Enter a movie name: \").strip().lower()  # Take user input\n",
        "\n",
        "    if movie_name not in df[\"Name\"].values:\n",
        "        return \"Movie not found in dataset.\"\n",
        "\n",
        "    # Get movie details\n",
        "    movie_row = df[df[\"Name\"] == movie_name].iloc[0]\n",
        "    movie_genre = movie_row[\"Genre\"]\n",
        "    movie_year = movie_row[\"Year\"]\n",
        "\n",
        "    # Predict genre using Naïve Bayes\n",
        "    predicted_genre_label = nb_pipeline.predict([movie_genre])[0]\n",
        "    predicted_genre = label_encoder.inverse_transform([predicted_genre_label])[0]\n",
        "\n",
        "    # Filter movies of the same genre\n",
        "    genre_movies = df[df[\"Genre\"] == predicted_genre].copy()\n",
        "\n",
        "    # Sort by Rating (highest first) and then by Votes (highest first)\n",
        "    genre_movies = genre_movies.sort_values(by=[\"Rating\", \"Votes\"], ascending=[False, False])\n",
        "\n",
        "    # Select top 5 recommendations\n",
        "    similar_movies = genre_movies.head(5)[[\"Name\", \"Genre\", \"Year\", \"Rating\", \"Votes\"]]\n",
        "\n",
        "    print(\"\\nRecommended Movies:\")\n",
        "    print(similar_movies.to_string(index=False))\n",
        "\n",
        "# Call the function to get user input and show recommendations\n",
        "recommend_movies_naive_bayes()\n"
      ],
      "metadata": {
        "colab": {
          "base_uri": "https://localhost:8080/"
        },
        "id": "1l2ZZNxjKYJ7",
        "outputId": "47e090cc-8004-46ab-b11b-eddaa10bfd5e"
      },
      "execution_count": 2,
      "outputs": [
        {
          "output_type": "stream",
          "name": "stdout",
          "text": [
            "Enter a movie name: 100% LOVE\n",
            "\n",
            "Recommended Movies:\n",
            "                  Name                  Genre  Year  Rating  Votes\n",
            "          love sorries Comedy, Drama, Romance  2021     9.3     79\n",
            "         chupke chupke Comedy, Drama, Romance  1975     8.3  11923\n",
            "jo jeeta wohi sikandar Comedy, Drama, Romance  1992     8.2  22147\n",
            "                barfi! Comedy, Drama, Romance  2012     8.1  77377\n",
            "        dil chahta hai Comedy, Drama, Romance  2001     8.1  68138\n"
          ]
        }
      ]
    },
    {
      "cell_type": "code",
      "source": [],
      "metadata": {
        "id": "bdu6yl5WKhhy"
      },
      "execution_count": null,
      "outputs": []
    }
  ]
}